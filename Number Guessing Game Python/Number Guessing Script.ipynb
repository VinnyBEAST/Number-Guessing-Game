{
 "cells": [
  {
   "cell_type": "code",
   "execution_count": null,
   "id": "c750bf2e",
   "metadata": {},
   "outputs": [],
   "source": [
    "import random\n",
    "import time\n",
    "\n",
    "n = random.randrange(1,100)\n",
    "\n",
    "print(\"Welcome to the NUMBER GUESSING GAME\\nFIVE ATTEMPTS ONLY!!\")\n",
    "\n",
    "time.sleep(2)\n",
    "\n",
    "guess = int(input(\"Guess a number: \"))\n",
    "\n",
    "count = 1\n",
    "while n !=guess and count<5:\n",
    "    if guess <n:\n",
    "        print(\"Too low\")\n",
    "        print(\"You have {} attempts left\".format((5-count)))\n",
    "        guess = int(input(\"Guess Again\"))\n",
    "        count+=1\n",
    "    elif guess > n:\n",
    "        print(\"Too High\")\n",
    "        print(\"You have {} attempts left\".format((5-count)))\n",
    "        guess = int(input(\"Guess Again\"))\n",
    "        count+=1\n",
    "    else:\n",
    "        break\n",
    "        \n",
    "    if n==guess:\n",
    "        print(\"**You Are Right**\")\n",
    "    else:\n",
    "        print(\"Bad Luck, Try Again\")\n"
   ]
  },
  {
   "cell_type": "code",
   "execution_count": null,
   "id": "9435b5f1",
   "metadata": {},
   "outputs": [],
   "source": []
  },
  {
   "cell_type": "code",
   "execution_count": null,
   "id": "dcf63326",
   "metadata": {},
   "outputs": [],
   "source": []
  },
  {
   "cell_type": "code",
   "execution_count": null,
   "id": "79081222",
   "metadata": {},
   "outputs": [],
   "source": []
  },
  {
   "cell_type": "code",
   "execution_count": null,
   "id": "e066e74d",
   "metadata": {},
   "outputs": [],
   "source": []
  },
  {
   "cell_type": "code",
   "execution_count": null,
   "id": "9cab229b",
   "metadata": {},
   "outputs": [],
   "source": []
  },
  {
   "cell_type": "code",
   "execution_count": null,
   "id": "8cc3f750",
   "metadata": {},
   "outputs": [],
   "source": []
  },
  {
   "cell_type": "code",
   "execution_count": null,
   "id": "646c0445",
   "metadata": {},
   "outputs": [],
   "source": []
  },
  {
   "cell_type": "code",
   "execution_count": null,
   "id": "783c90e7",
   "metadata": {},
   "outputs": [],
   "source": []
  }
 ],
 "metadata": {
  "kernelspec": {
   "display_name": "Python 3 (ipykernel)",
   "language": "python",
   "name": "python3"
  },
  "language_info": {
   "codemirror_mode": {
    "name": "ipython",
    "version": 3
   },
   "file_extension": ".py",
   "mimetype": "text/x-python",
   "name": "python",
   "nbconvert_exporter": "python",
   "pygments_lexer": "ipython3",
   "version": "3.10.9"
  }
 },
 "nbformat": 4,
 "nbformat_minor": 5
}
